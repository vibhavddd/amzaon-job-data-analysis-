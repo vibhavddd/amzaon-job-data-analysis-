{
 "cells": [
  {
   "cell_type": "code",
   "execution_count": 1,
   "metadata": {},
   "outputs": [],
   "source": [
    "def func(sold,compony):\n",
    "    \n",
    "    li = []\n",
    "    s = []\n",
    "    num1 = sum(sold)\n",
    "    for i in range(len(sold)):\n",
    "\n",
    "        num = (sold[i]*100)/num1\n",
    "        print(compony[i],round(num,1))\n",
    "        li.append(round(num,1))\n",
    "        \n",
    "    return (li)\n",
    "    "
   ]
  },
  {
   "cell_type": "code",
   "execution_count": 3,
   "metadata": {},
   "outputs": [],
   "source": [
    "import matplotlib.pyplot as plt # how to use function in pie charts "
   ]
  },
  {
   "cell_type": "code",
   "execution_count": 14,
   "metadata": {},
   "outputs": [
    {
     "name": "stdout",
     "output_type": "stream",
     "text": [
      "HP 15.2\n",
      "asus 32.6\n",
      "accer 11.4\n",
      "lenevo 12.9\n",
      "apple 13.6\n",
      "great 14.4\n"
     ]
    },
    {
     "data": {
      "image/png": "[encoded data removed]",
      "text/plain": [
       "<Figure size 432x288 with 1 Axes>"
      ]
     },
     "metadata": {},
     "output_type": "display_data"
    }
   ],
   "source": [
    "compony = [\"HP\",\"asus\",\"accer\",\"lenevo\",\"apple\",\"great\"]\n",
    "sold = [20000,43000,15000,17000,18000,19000]\n",
    "plt.pie(sold,labels = compony,explode = [0.1,0.2,0.1,0.2,0.1,0],autopct = \"%.2f\".format(func(sold,compony)),counterclock = False ,startangle= 90)\n",
    "plt.show()"
   ]
  },
  {
   "cell_type": "code",
   "execution_count": null,
   "metadata": {},
   "outputs": [],
   "source": []
  },
  {
   "cell_type": "code",
   "execution_count": null,
   "metadata": {},
   "outputs": [],
   "source": []
  },
  {
   "cell_type": "code",
   "execution_count": null,
   "metadata": {},
   "outputs": [],
   "source": []
  },
  {
   "cell_type": "code",
   "execution_count": null,
   "metadata": {},
   "outputs": [],
   "source": []
  },
  {
   "cell_type": "code",
   "execution_count": null,
   "metadata": {},
   "outputs": [],
   "source": []
  },
  {
   "cell_type": "code",
   "execution_count": null,
   "metadata": {},
   "outputs": [],
   "source": [
    "# projet for plotting graph amzaon job data set "
   ]
  },
  {
   "cell_type": "code",
   "execution_count": null,
   "metadata": {},
   "outputs": [],
   "source": []
  },
  {
   "cell_type": "code",
   "execution_count": 3,
   "metadata": {},
   "outputs": [],
   "source": [
    "import numpy as np \n",
    "import pandas as pd"
   ]
  },
  {
   "cell_type": "code",
   "execution_count": 4,
   "metadata": {},
   "outputs": [],
   "source": [
    "data = pd.read_csv(\"Copy of amazon_jobs_dataset.csv\")\n",
    "df = data.copy()"
   ]
  },
  {
   "cell_type": "code",
   "execution_count": 5,
   "metadata": {},
   "outputs": [
    {
     "data": {
      "text/html": [
       "<div>\n",
       "<style scoped>\n",
       "    .dataframe tbody tr th:only-of-type {\n",
       "        vertical-align: middle;\n",
       "    }\n",
       "\n",
       "    .dataframe tbody tr th {\n",
       "        vertical-align: top;\n",
       "    }\n",
       "\n",
       "    .dataframe thead th {\n",
       "        text-align: right;\n",
       "    }\n",
       "</style>\n",
       "<table border=\"1\" class=\"dataframe\">\n",
       "  <thead>\n",
       "    <tr style=\"text-align: right;\">\n",
       "      <th></th>\n",
       "      <th>Unnamed: 0</th>\n",
       "      <th>Title</th>\n",
       "      <th>location</th>\n",
       "      <th>Posting_date</th>\n",
       "      <th>DESCRIPTION</th>\n",
       "      <th>BASIC QUALIFICATIONS</th>\n",
       "      <th>PREFERRED QUALIFICATIONS</th>\n",
       "    </tr>\n",
       "  </thead>\n",
       "  <tbody>\n",
       "    <tr>\n",
       "      <th>0</th>\n",
       "      <td>0</td>\n",
       "      <td>Software Development Manager</td>\n",
       "      <td>US, WA, Seattle</td>\n",
       "      <td>March  1, 2018</td>\n",
       "      <td>You are an experienced hands-on manager with a...</td>\n",
       "      <td>· Proven track record of hiring and managing h...</td>\n",
       "      <td>· Experience building extremely high volume an...</td>\n",
       "    </tr>\n",
       "    <tr>\n",
       "      <th>1</th>\n",
       "      <td>1</td>\n",
       "      <td>Software Development Engineer</td>\n",
       "      <td>IN, KA, Bangalore</td>\n",
       "      <td>March  1, 2018</td>\n",
       "      <td>Amazon is driven by being “the world’s most cu...</td>\n",
       "      <td>· Bachelor’s Degree in Computer Science or rel...</td>\n",
       "      <td>· Experience building complex software systems...</td>\n",
       "    </tr>\n",
       "    <tr>\n",
       "      <th>2</th>\n",
       "      <td>2</td>\n",
       "      <td>Software Development Engineer</td>\n",
       "      <td>IN, KA, Bangalore</td>\n",
       "      <td>March  1, 2018</td>\n",
       "      <td>Amazon is driven by being “the world’s most cu...</td>\n",
       "      <td>· Bachelor’s Degree in Computer Science or rel...</td>\n",
       "      <td>· Experience building complex software systems...</td>\n",
       "    </tr>\n",
       "    <tr>\n",
       "      <th>3</th>\n",
       "      <td>3</td>\n",
       "      <td>Software Development Engineer - Amazon Lex</td>\n",
       "      <td>US, WA, Seattle</td>\n",
       "      <td>March  1, 2018</td>\n",
       "      <td>Have you ever wondered what it takes to build ...</td>\n",
       "      <td>· Bachelors Degree in Computer Science or a re...</td>\n",
       "      <td>· Masters or PhD in Computer Science· Experien...</td>\n",
       "    </tr>\n",
       "    <tr>\n",
       "      <th>4</th>\n",
       "      <td>4</td>\n",
       "      <td>Software Development Engineer - Amazon Lex</td>\n",
       "      <td>US, WA, Seattle</td>\n",
       "      <td>March  1, 2018</td>\n",
       "      <td>Have you ever wondered what it takes to build ...</td>\n",
       "      <td>· Bachelors Degree in Computer Science or a re...</td>\n",
       "      <td>· Masters or PhD in Computer Science· Experien...</td>\n",
       "    </tr>\n",
       "  </tbody>\n",
       "</table>\n",
       "</div>"
      ],
      "text/plain": [
       "   Unnamed: 0                                       Title            location  \\\n",
       "0           0                Software Development Manager    US, WA, Seattle    \n",
       "1           1               Software Development Engineer  IN, KA, Bangalore    \n",
       "2           2               Software Development Engineer  IN, KA, Bangalore    \n",
       "3           3  Software Development Engineer - Amazon Lex    US, WA, Seattle    \n",
       "4           4  Software Development Engineer - Amazon Lex    US, WA, Seattle    \n",
       "\n",
       "     Posting_date                                        DESCRIPTION  \\\n",
       "0  March  1, 2018  You are an experienced hands-on manager with a...   \n",
       "1  March  1, 2018  Amazon is driven by being “the world’s most cu...   \n",
       "2  March  1, 2018  Amazon is driven by being “the world’s most cu...   \n",
       "3  March  1, 2018  Have you ever wondered what it takes to build ...   \n",
       "4  March  1, 2018  Have you ever wondered what it takes to build ...   \n",
       "\n",
       "                                BASIC QUALIFICATIONS  \\\n",
       "0  · Proven track record of hiring and managing h...   \n",
       "1  · Bachelor’s Degree in Computer Science or rel...   \n",
       "2  · Bachelor’s Degree in Computer Science or rel...   \n",
       "3  · Bachelors Degree in Computer Science or a re...   \n",
       "4  · Bachelors Degree in Computer Science or a re...   \n",
       "\n",
       "                            PREFERRED QUALIFICATIONS  \n",
       "0  · Experience building extremely high volume an...  \n",
       "1  · Experience building complex software systems...  \n",
       "2  · Experience building complex software systems...  \n",
       "3  · Masters or PhD in Computer Science· Experien...  \n",
       "4  · Masters or PhD in Computer Science· Experien...  "
      ]
     },
     "execution_count": 5,
     "metadata": {},
     "output_type": "execute_result"
    }
   ],
   "source": [
    "df.head()"
   ]
  },
  {
   "cell_type": "code",
   "execution_count": 15,
   "metadata": {},
   "outputs": [],
   "source": [
    "#question 1 number of jobs opening per year"
   ]
  },
  {
   "cell_type": "code",
   "execution_count": 6,
   "metadata": {},
   "outputs": [],
   "source": [
    "a = df['Posting_date']\n",
    "a = np.array(a)"
   ]
  },
  {
   "cell_type": "code",
   "execution_count": null,
   "metadata": {},
   "outputs": [],
   "source": [
    "\n",
    "    "
   ]
  },
  {
   "cell_type": "code",
   "execution_count": 7,
   "metadata": {},
   "outputs": [],
   "source": [
    "b = []\n",
    "for i in a:\n",
    "    b.append(i.split()[2])"
   ]
  },
  {
   "cell_type": "code",
   "execution_count": 58,
   "metadata": {},
   "outputs": [],
   "source": []
  },
  {
   "cell_type": "code",
   "execution_count": 8,
   "metadata": {},
   "outputs": [
    {
     "data": {
      "text/plain": [
       "array(['2018', '2018', '2018', ..., '2012', '2011', '2011'], dtype='<U4')"
      ]
     },
     "execution_count": 8,
     "metadata": {},
     "output_type": "execute_result"
    }
   ],
   "source": [
    "b = np.array(b)\n",
    "b"
   ]
  },
  {
   "cell_type": "code",
   "execution_count": null,
   "metadata": {},
   "outputs": [],
   "source": []
  },
  {
   "cell_type": "code",
   "execution_count": 9,
   "metadata": {},
   "outputs": [],
   "source": [
    "unique, counts = np.unique(b, return_counts=True)"
   ]
  },
  {
   "cell_type": "code",
   "execution_count": 10,
   "metadata": {},
   "outputs": [
    {
     "data": {
      "text/plain": [
       "(array(['2011', '2012', '2013', '2014', '2015', '2016', '2017', '2018'],\n",
       "       dtype='<U4'),\n",
       " array([   2,    7,    3,    5,   29,  123, 1614, 1710], dtype=int64))"
      ]
     },
     "execution_count": 10,
     "metadata": {},
     "output_type": "execute_result"
    }
   ],
   "source": [
    "unique,counts"
   ]
  },
  {
   "cell_type": "code",
   "execution_count": null,
   "metadata": {},
   "outputs": [],
   "source": []
  },
  {
   "cell_type": "code",
   "execution_count": 14,
   "metadata": {},
   "outputs": [
    {
     "name": "stdout",
     "output_type": "stream",
     "text": [
      "{'2011': 2, '2012': 7, '2013': 3, '2014': 5, '2015': 29, '2016': 123, '2017': 1614, '2018': 1710}\n"
     ]
    },
    {
     "data": {
      "image/png": "[encoded data removed]",
      "text/plain": [
       "<Figure size 432x288 with 1 Axes>"
      ]
     },
     "metadata": {
      "needs_background": "light"
     },
     "output_type": "display_data"
    }
   ],
   "source": [
    "import matplotlib.pyplot as plt\n",
    "plt.plot(unique, counts, \"b\")\n",
    "plt.scatter(unique, counts)\n",
    "plt.grid()\n",
    "x = dict(zip(unique,counts))\n",
    "plt.ylabel(\"number of jobs in that year\")\n",
    "plt.xlabel(\"year\")\n",
    "plt.title(\"Number Of Jobs Opening Per Year\")\n",
    "\n",
    "\n",
    "print(x)\n",
    "plt.show()"
   ]
  },
  {
   "cell_type": "code",
   "execution_count": null,
   "metadata": {},
   "outputs": [],
   "source": []
  },
  {
   "cell_type": "code",
   "execution_count": 16,
   "metadata": {},
   "outputs": [],
   "source": [
    "#quetsion 2 number of job opening per month "
   ]
  },
  {
   "cell_type": "code",
   "execution_count": null,
   "metadata": {},
   "outputs": [],
   "source": []
  },
  {
   "cell_type": "code",
   "execution_count": 45,
   "metadata": {},
   "outputs": [],
   "source": [
    "b = []\n",
    "for i in a:\n",
    "    b.append(i.split()[0])"
   ]
  },
  {
   "cell_type": "code",
   "execution_count": 46,
   "metadata": {},
   "outputs": [
    {
     "data": {
      "text/plain": [
       "array(['March', 'March', 'March', ..., 'March', 'November', 'July'],\n",
       "      dtype='<U9')"
      ]
     },
     "execution_count": 46,
     "metadata": {},
     "output_type": "execute_result"
    }
   ],
   "source": [
    "b = np.array(b)\n",
    "b"
   ]
  },
  {
   "cell_type": "code",
   "execution_count": 47,
   "metadata": {},
   "outputs": [],
   "source": [
    "unique, counts = np.unique(b, return_counts=True)"
   ]
  },
  {
   "cell_type": "code",
   "execution_count": 48,
   "metadata": {},
   "outputs": [
    {
     "name": "stdout",
     "output_type": "stream",
     "text": [
      "{'April': 58, 'August': 153, 'December': 393, 'February': 869, 'January': 961, 'July': 95, 'June': 99, 'March': 78, 'May': 108, 'November': 271, 'October': 243, 'September': 165}\n"
     ]
    },
    {
     "data": {
      "image/png": "[encoded data removed]",
      "text/plain": [
       "<Figure size 432x288 with 1 Axes>"
      ]
     },
     "metadata": {
      "needs_background": "light"
     },
     "output_type": "display_data"
    }
   ],
   "source": [
    "import matplotlib.pyplot as plt\n",
    "plt.bar(unique, counts,width = 0.9 )\n",
    "plt.xticks(rotation = 60)\n",
    "plt.ylabel(\"number of jobs opening\")\n",
    "plt.xlabel(\"month\")\n",
    "plt.title(\"Number Of Jobs Opening In A Particular Month\")\n",
    "\n",
    "x = dict(zip(unique,counts))\n",
    "print(x)\n",
    "plt.show()"
   ]
  },
  {
   "cell_type": "code",
   "execution_count": 21,
   "metadata": {},
   "outputs": [],
   "source": [
    "#question 3 (number of job as per the specific loctaion in india )"
   ]
  },
  {
   "cell_type": "code",
   "execution_count": 22,
   "metadata": {},
   "outputs": [],
   "source": [
    "a = df['location']"
   ]
  },
  {
   "cell_type": "code",
   "execution_count": null,
   "metadata": {},
   "outputs": [],
   "source": []
  },
  {
   "cell_type": "code",
   "execution_count": 23,
   "metadata": {},
   "outputs": [],
   "source": [
    "b = []\n",
    "for i in a:\n",
    "    if i[0:2] == 'IN' :\n",
    "        b.append(i[8:])"
   ]
  },
  {
   "cell_type": "code",
   "execution_count": 24,
   "metadata": {},
   "outputs": [],
   "source": [
    "b = np.array(b)\n"
   ]
  },
  {
   "cell_type": "code",
   "execution_count": 25,
   "metadata": {},
   "outputs": [],
   "source": [
    "unique, counts = np.unique(b, return_counts=True)"
   ]
  },
  {
   "cell_type": "code",
   "execution_count": 26,
   "metadata": {},
   "outputs": [
    {
     "data": {
      "text/plain": [
       "array([66, 33,  5, 36,  1], dtype=int64)"
      ]
     },
     "execution_count": 26,
     "metadata": {},
     "output_type": "execute_result"
    }
   ],
   "source": [
    "counts"
   ]
  },
  {
   "cell_type": "code",
   "execution_count": 29,
   "metadata": {},
   "outputs": [
    {
     "data": {
      "image/png": "[encoded data removed]",
      "text/plain": [
       "<Figure size 432x288 with 1 Axes>"
      ]
     },
     "metadata": {},
     "output_type": "display_data"
    }
   ],
   "source": [
    "import matplotlib.pyplot as plt\n",
    "plt.pie(counts,labels = unique,explode = [0.1,0.2,0.1,0.2,0.1],autopct = '.%f',counterclock = False ,startangle= 90)\n",
    "plt.title(\"Number Of Job As Per The Specific Loctaion In India\")\n",
    "plt.show()"
   ]
  },
  {
   "cell_type": "code",
   "execution_count": null,
   "metadata": {},
   "outputs": [],
   "source": []
  },
  {
   "cell_type": "code",
   "execution_count": null,
   "metadata": {},
   "outputs": [],
   "source": []
  },
  {
   "cell_type": "code",
   "execution_count": 30,
   "metadata": {},
   "outputs": [],
   "source": [
    "#question 4 number of job per year realted to java "
   ]
  },
  {
   "cell_type": "code",
   "execution_count": 34,
   "metadata": {},
   "outputs": [],
   "source": [
    "a = x[\"Posting_date\"]"
   ]
  },
  {
   "cell_type": "code",
   "execution_count": 32,
   "metadata": {},
   "outputs": [],
   "source": [
    "x = df\n"
   ]
  },
  {
   "cell_type": "code",
   "execution_count": 33,
   "metadata": {},
   "outputs": [
    {
     "data": {
      "text/plain": [
       "(3493, 7)"
      ]
     },
     "execution_count": 33,
     "metadata": {},
     "output_type": "execute_result"
    }
   ],
   "source": [
    "x.shape"
   ]
  },
  {
   "cell_type": "code",
   "execution_count": 35,
   "metadata": {},
   "outputs": [],
   "source": [
    "b = []\n",
    "for i in a:\n",
    "     b.append(i.split()[2])"
   ]
  },
  {
   "cell_type": "code",
   "execution_count": 36,
   "metadata": {},
   "outputs": [],
   "source": [
    "x[\"YEARS\"] = b"
   ]
  },
  {
   "cell_type": "code",
   "execution_count": 37,
   "metadata": {},
   "outputs": [
    {
     "data": {
      "text/html": [
       "<div>\n",
       "<style scoped>\n",
       "    .dataframe tbody tr th:only-of-type {\n",
       "        vertical-align: middle;\n",
       "    }\n",
       "\n",
       "    .dataframe tbody tr th {\n",
       "        vertical-align: top;\n",
       "    }\n",
       "\n",
       "    .dataframe thead th {\n",
       "        text-align: right;\n",
       "    }\n",
       "</style>\n",
       "<table border=\"1\" class=\"dataframe\">\n",
       "  <thead>\n",
       "    <tr style=\"text-align: right;\">\n",
       "      <th></th>\n",
       "      <th>Unnamed: 0</th>\n",
       "      <th>Title</th>\n",
       "      <th>location</th>\n",
       "      <th>Posting_date</th>\n",
       "      <th>DESCRIPTION</th>\n",
       "      <th>BASIC QUALIFICATIONS</th>\n",
       "      <th>PREFERRED QUALIFICATIONS</th>\n",
       "      <th>YEARS</th>\n",
       "    </tr>\n",
       "  </thead>\n",
       "  <tbody>\n",
       "    <tr>\n",
       "      <th>0</th>\n",
       "      <td>0</td>\n",
       "      <td>Software Development Manager</td>\n",
       "      <td>US, WA, Seattle</td>\n",
       "      <td>March  1, 2018</td>\n",
       "      <td>You are an experienced hands-on manager with a...</td>\n",
       "      <td>· Proven track record of hiring and managing h...</td>\n",
       "      <td>· Experience building extremely high volume an...</td>\n",
       "      <td>2018</td>\n",
       "    </tr>\n",
       "    <tr>\n",
       "      <th>1</th>\n",
       "      <td>1</td>\n",
       "      <td>Software Development Engineer</td>\n",
       "      <td>IN, KA, Bangalore</td>\n",
       "      <td>March  1, 2018</td>\n",
       "      <td>Amazon is driven by being “the world’s most cu...</td>\n",
       "      <td>· Bachelor’s Degree in Computer Science or rel...</td>\n",
       "      <td>· Experience building complex software systems...</td>\n",
       "      <td>2018</td>\n",
       "    </tr>\n",
       "    <tr>\n",
       "      <th>2</th>\n",
       "      <td>2</td>\n",
       "      <td>Software Development Engineer</td>\n",
       "      <td>IN, KA, Bangalore</td>\n",
       "      <td>March  1, 2018</td>\n",
       "      <td>Amazon is driven by being “the world’s most cu...</td>\n",
       "      <td>· Bachelor’s Degree in Computer Science or rel...</td>\n",
       "      <td>· Experience building complex software systems...</td>\n",
       "      <td>2018</td>\n",
       "    </tr>\n",
       "    <tr>\n",
       "      <th>3</th>\n",
       "      <td>3</td>\n",
       "      <td>Software Development Engineer - Amazon Lex</td>\n",
       "      <td>US, WA, Seattle</td>\n",
       "      <td>March  1, 2018</td>\n",
       "      <td>Have you ever wondered what it takes to build ...</td>\n",
       "      <td>· Bachelors Degree in Computer Science or a re...</td>\n",
       "      <td>· Masters or PhD in Computer Science· Experien...</td>\n",
       "      <td>2018</td>\n",
       "    </tr>\n",
       "    <tr>\n",
       "      <th>4</th>\n",
       "      <td>4</td>\n",
       "      <td>Software Development Engineer - Amazon Lex</td>\n",
       "      <td>US, WA, Seattle</td>\n",
       "      <td>March  1, 2018</td>\n",
       "      <td>Have you ever wondered what it takes to build ...</td>\n",
       "      <td>· Bachelors Degree in Computer Science or a re...</td>\n",
       "      <td>· Masters or PhD in Computer Science· Experien...</td>\n",
       "      <td>2018</td>\n",
       "    </tr>\n",
       "  </tbody>\n",
       "</table>\n",
       "</div>"
      ],
      "text/plain": [
       "   Unnamed: 0                                       Title            location  \\\n",
       "0           0                Software Development Manager    US, WA, Seattle    \n",
       "1           1               Software Development Engineer  IN, KA, Bangalore    \n",
       "2           2               Software Development Engineer  IN, KA, Bangalore    \n",
       "3           3  Software Development Engineer - Amazon Lex    US, WA, Seattle    \n",
       "4           4  Software Development Engineer - Amazon Lex    US, WA, Seattle    \n",
       "\n",
       "     Posting_date                                        DESCRIPTION  \\\n",
       "0  March  1, 2018  You are an experienced hands-on manager with a...   \n",
       "1  March  1, 2018  Amazon is driven by being “the world’s most cu...   \n",
       "2  March  1, 2018  Amazon is driven by being “the world’s most cu...   \n",
       "3  March  1, 2018  Have you ever wondered what it takes to build ...   \n",
       "4  March  1, 2018  Have you ever wondered what it takes to build ...   \n",
       "\n",
       "                                BASIC QUALIFICATIONS  \\\n",
       "0  · Proven track record of hiring and managing h...   \n",
       "1  · Bachelor’s Degree in Computer Science or rel...   \n",
       "2  · Bachelor’s Degree in Computer Science or rel...   \n",
       "3  · Bachelors Degree in Computer Science or a re...   \n",
       "4  · Bachelors Degree in Computer Science or a re...   \n",
       "\n",
       "                            PREFERRED QUALIFICATIONS YEARS  \n",
       "0  · Experience building extremely high volume an...  2018  \n",
       "1  · Experience building complex software systems...  2018  \n",
       "2  · Experience building complex software systems...  2018  \n",
       "3  · Masters or PhD in Computer Science· Experien...  2018  \n",
       "4  · Masters or PhD in Computer Science· Experien...  2018  "
      ]
     },
     "execution_count": 37,
     "metadata": {},
     "output_type": "execute_result"
    }
   ],
   "source": [
    "x.head()"
   ]
  },
  {
   "cell_type": "code",
   "execution_count": 38,
   "metadata": {},
   "outputs": [],
   "source": [
    "y = []\n",
    "for i in x[\"BASIC QUALIFICATIONS\"]:\n",
    "    if \"JAVA\" in str(i):\n",
    "        y.append(x[\"YEARS\"])\n",
    "    elif \"java\" in str(i):\n",
    "        y.append(x[\"YEARS\"])\n",
    "        "
   ]
  },
  {
   "cell_type": "code",
   "execution_count": 16,
   "metadata": {},
   "outputs": [
    {
     "data": {
      "text/plain": [
       "list"
      ]
     },
     "execution_count": 16,
     "metadata": {},
     "output_type": "execute_result"
    }
   ],
   "source": [
    "type(y)"
   ]
  },
  {
   "cell_type": "code",
   "execution_count": 39,
   "metadata": {},
   "outputs": [
    {
     "data": {
      "text/plain": [
       "array([['2018', '2018', '2018', ..., '2012', '2011', '2011'],\n",
       "       ['2018', '2018', '2018', ..., '2012', '2011', '2011'],\n",
       "       ['2018', '2018', '2018', ..., '2012', '2011', '2011'],\n",
       "       ...,\n",
       "       ['2018', '2018', '2018', ..., '2012', '2011', '2011'],\n",
       "       ['2018', '2018', '2018', ..., '2012', '2011', '2011'],\n",
       "       ['2018', '2018', '2018', ..., '2012', '2011', '2011']],\n",
       "      dtype=object)"
      ]
     },
     "execution_count": 39,
     "metadata": {},
     "output_type": "execute_result"
    }
   ],
   "source": [
    "y = np.array(y)\n",
    "y"
   ]
  },
  {
   "cell_type": "code",
   "execution_count": 40,
   "metadata": {},
   "outputs": [],
   "source": [
    "unique, counts = np.unique(y, return_counts=True)"
   ]
  },
  {
   "cell_type": "code",
   "execution_count": 41,
   "metadata": {},
   "outputs": [
    {
     "data": {
      "text/plain": [
       "array(['2011', '2012', '2013', '2014', '2015', '2016', '2017', '2018'],\n",
       "      dtype=object)"
      ]
     },
     "execution_count": 41,
     "metadata": {},
     "output_type": "execute_result"
    }
   ],
   "source": [
    "unique"
   ]
  },
  {
   "cell_type": "code",
   "execution_count": 42,
   "metadata": {},
   "outputs": [
    {
     "name": "stdout",
     "output_type": "stream",
     "text": [
      "{'2011': 64, '2012': 224, '2013': 96, '2014': 160, '2015': 928, '2016': 3936, '2017': 51648, '2018': 54720}\n"
     ]
    },
    {
     "data": {
      "image/png": "[encoded data removed]",
      "text/plain": [
       "<Figure size 432x288 with 1 Axes>"
      ]
     },
     "metadata": {
      "needs_background": "light"
     },
     "output_type": "display_data"
    }
   ],
   "source": [
    "import matplotlib.pyplot as plt\n",
    "\n",
    "plt.scatter(unique, counts)\n",
    "plt.grid()\n",
    "plt.ylabel(\"number of job realted to java\")\n",
    "plt.xlabel(\"year\")\n",
    "plt.title(\"Number Of Job Per Year Realted To Java\")\n",
    "x = dict(zip(unique,counts))\n",
    "print(x)\n",
    "plt.show()"
   ]
  },
  {
   "cell_type": "code",
   "execution_count": null,
   "metadata": {},
   "outputs": [],
   "source": []
  }
 ],
 "metadata": {
  "kernelspec": {
   "display_name": "Python 3",
   "language": "python",
   "name": "python3"
  },
  "language_info": {
   "codemirror_mode": {
    "name": "ipython",
    "version": 3
   },
   "file_extension": ".py",
   "mimetype": "text/x-python",
   "name": "python",
   "nbconvert_exporter": "python",
   "pygments_lexer": "ipython3",
   "version": "3.7.6"
  }
 },
 "nbformat": 4,
 "nbformat_minor": 4
}
